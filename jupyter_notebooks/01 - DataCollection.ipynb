{
  "cells": [
    {
      "cell_type": "markdown",
      "metadata": {
        "id": "-mavJ8DibrcQ"
      },
      "source": [
        "# Fetch data from Kaggle"
      ]
    },
    {
      "cell_type": "markdown",
      "metadata": {
        "id": "9DryO4viMfRc"
      },
      "source": [
        "---"
      ]
    },
    {
      "cell_type": "markdown",
      "metadata": {
        "id": "y42pXnkCU3KT"
      },
      "source": [
        "You first need to download to your machine a **JSON file (authentication token)** from Kaggle for authentication.\n",
        "\n",
        "\n",
        "The process is as follows:\n",
        "  1. From the site header, click on your user profile picture, then on **“Account”** from the dropdown menu. This will take you to your account settings."
      ]
    },
    {
      "cell_type": "markdown",
      "metadata": {
        "id": "dpFKTVh8VBKQ"
      },
      "source": [
        "2. Scroll down to the section of the page called **API**.\n"
      ]
    },
    {
      "cell_type": "markdown",
      "metadata": {
        "id": "dTjEmc_4V_Bt"
      },
      "source": [
        "3. Click **Expire API Token** to remove previous tokens."
      ]
    },
    {
      "cell_type": "markdown",
      "metadata": {},
      "source": [
        "4. To create a new token, click on the “**Create New API Token**” button. It will generate a fresh authentication token and will download a **kaggle.json file** onto your machine."
      ]
    },
    {
      "cell_type": "markdown",
      "metadata": {
        "id": "sPvhgJnFKOww"
      },
      "source": [
        "In case of any difficulty, go to the \"Authentication\" section at this [link](https://www.kaggle.com/docs/api).\n",
        "\n",
        "\n",
        "\n",
        "* This file should now be saved locally on your machine. **Please make sure this file is named kaggle.json**\n"
      ]
    },
    {
      "cell_type": "markdown",
      "metadata": {
        "id": "iw-S4sRxed1u"
      },
      "source": [
        "---"
      ]
    },
    {
      "cell_type": "markdown",
      "metadata": {
        "id": "0aStgWSO0E0E"
      },
      "source": [
        "# **Data Collection**"
      ]
    },
    {
      "cell_type": "markdown",
      "metadata": {
        "id": "1eLEkw5O0ECa"
      },
      "source": [
        "## Objectives\n",
        "\n",
        "* Fetch data from Kaggle and prepare it for further processes.\n",
        "\n",
        "## Inputs\n",
        "\n",
        "*   Kaggle JSON file - the authentication token. \n",
        "\n",
        "## Outputs\n",
        "\n",
        "* Generate Dataset: inputs/datasets/malaria_dataset\n",
        "\n",
        "## Additional Comments | Insights | Conclusions\n",
        "\n",
        "\n",
        "* No additional comments.\n"
      ]
    },
    {
      "cell_type": "markdown",
      "metadata": {
        "id": "9uWZXH9LwoQg"
      },
      "source": [
        "---"
      ]
    },
    {
      "cell_type": "markdown",
      "metadata": {
        "id": "HpTc5-PJVH_i"
      },
      "source": [
        "# Import packages"
      ]
    },
    {
      "cell_type": "code",
      "execution_count": 1,
      "metadata": {},
      "outputs": [
        {
          "name": "stdout",
          "output_type": "stream",
          "text": [
            "'01 - DataCollection.ipynb'     '03 - Modelling and Evaluating.ipynb'\n",
            "'02 - DataVisualization.ipynb'\n"
          ]
        }
      ],
      "source": [
        "ls"
      ]
    },
    {
      "cell_type": "code",
      "execution_count": 2,
      "metadata": {},
      "outputs": [
        {
          "name": "stdout",
          "output_type": "stream",
          "text": [
            "Requirement already satisfied: matplotlib in /home/gitpod/.pyenv/versions/3.12.6/lib/python3.12/site-packages (from -r /workspace/powdery_mildew_detector/requirements.txt (line 1)) (3.9.2)\n",
            "Requirement already satisfied: seaborn in /home/gitpod/.pyenv/versions/3.12.6/lib/python3.12/site-packages (from -r /workspace/powdery_mildew_detector/requirements.txt (line 2)) (0.13.2)\n",
            "Requirement already satisfied: streamlit in /home/gitpod/.pyenv/versions/3.12.6/lib/python3.12/site-packages (from -r /workspace/powdery_mildew_detector/requirements.txt (line 3)) (1.38.0)\n",
            "Requirement already satisfied: tensorflow-cpu in /home/gitpod/.pyenv/versions/3.12.6/lib/python3.12/site-packages (from -r /workspace/powdery_mildew_detector/requirements.txt (line 4)) (2.17.0)\n",
            "Requirement already satisfied: joblib in /home/gitpod/.pyenv/versions/3.12.6/lib/python3.12/site-packages (from -r /workspace/powdery_mildew_detector/requirements.txt (line 5)) (1.4.2)\n",
            "Requirement already satisfied: tqdm in /home/gitpod/.pyenv/versions/3.12.6/lib/python3.12/site-packages (from -r /workspace/powdery_mildew_detector/requirements.txt (line 6)) (4.66.5)\n",
            "Requirement already satisfied: contourpy>=1.0.1 in /home/gitpod/.pyenv/versions/3.12.6/lib/python3.12/site-packages (from matplotlib->-r /workspace/powdery_mildew_detector/requirements.txt (line 1)) (1.3.0)\n",
            "Requirement already satisfied: cycler>=0.10 in /home/gitpod/.pyenv/versions/3.12.6/lib/python3.12/site-packages (from matplotlib->-r /workspace/powdery_mildew_detector/requirements.txt (line 1)) (0.12.1)\n",
            "Requirement already satisfied: fonttools>=4.22.0 in /home/gitpod/.pyenv/versions/3.12.6/lib/python3.12/site-packages (from matplotlib->-r /workspace/powdery_mildew_detector/requirements.txt (line 1)) (4.54.1)\n",
            "Requirement already satisfied: kiwisolver>=1.3.1 in /home/gitpod/.pyenv/versions/3.12.6/lib/python3.12/site-packages (from matplotlib->-r /workspace/powdery_mildew_detector/requirements.txt (line 1)) (1.4.7)\n",
            "Requirement already satisfied: numpy>=1.23 in /home/gitpod/.pyenv/versions/3.12.6/lib/python3.12/site-packages (from matplotlib->-r /workspace/powdery_mildew_detector/requirements.txt (line 1)) (1.26.4)\n",
            "Requirement already satisfied: packaging>=20.0 in /home/gitpod/.pyenv/versions/3.12.6/lib/python3.12/site-packages (from matplotlib->-r /workspace/powdery_mildew_detector/requirements.txt (line 1)) (24.1)\n",
            "Requirement already satisfied: pillow>=8 in /home/gitpod/.pyenv/versions/3.12.6/lib/python3.12/site-packages (from matplotlib->-r /workspace/powdery_mildew_detector/requirements.txt (line 1)) (10.4.0)\n",
            "Requirement already satisfied: pyparsing>=2.3.1 in /home/gitpod/.pyenv/versions/3.12.6/lib/python3.12/site-packages (from matplotlib->-r /workspace/powdery_mildew_detector/requirements.txt (line 1)) (3.1.4)\n",
            "Requirement already satisfied: python-dateutil>=2.7 in /home/gitpod/.pyenv/versions/3.12.6/lib/python3.12/site-packages (from matplotlib->-r /workspace/powdery_mildew_detector/requirements.txt (line 1)) (2.9.0.post0)\n",
            "Requirement already satisfied: pandas>=1.2 in /home/gitpod/.pyenv/versions/3.12.6/lib/python3.12/site-packages (from seaborn->-r /workspace/powdery_mildew_detector/requirements.txt (line 2)) (2.2.3)\n",
            "Requirement already satisfied: altair<6,>=4.0 in /home/gitpod/.pyenv/versions/3.12.6/lib/python3.12/site-packages (from streamlit->-r /workspace/powdery_mildew_detector/requirements.txt (line 3)) (5.4.1)\n",
            "Requirement already satisfied: blinker<2,>=1.0.0 in /home/gitpod/.pyenv/versions/3.12.6/lib/python3.12/site-packages (from streamlit->-r /workspace/powdery_mildew_detector/requirements.txt (line 3)) (1.8.2)\n",
            "Requirement already satisfied: cachetools<6,>=4.0 in /home/gitpod/.pyenv/versions/3.12.6/lib/python3.12/site-packages (from streamlit->-r /workspace/powdery_mildew_detector/requirements.txt (line 3)) (5.5.0)\n",
            "Requirement already satisfied: click<9,>=7.0 in /home/gitpod/.pyenv/versions/3.12.6/lib/python3.12/site-packages (from streamlit->-r /workspace/powdery_mildew_detector/requirements.txt (line 3)) (8.1.7)\n",
            "Requirement already satisfied: protobuf<6,>=3.20 in /home/gitpod/.pyenv/versions/3.12.6/lib/python3.12/site-packages (from streamlit->-r /workspace/powdery_mildew_detector/requirements.txt (line 3)) (4.25.5)\n",
            "Requirement already satisfied: pyarrow>=7.0 in /home/gitpod/.pyenv/versions/3.12.6/lib/python3.12/site-packages (from streamlit->-r /workspace/powdery_mildew_detector/requirements.txt (line 3)) (17.0.0)\n",
            "Requirement already satisfied: requests<3,>=2.27 in /home/gitpod/.pyenv/versions/3.12.6/lib/python3.12/site-packages (from streamlit->-r /workspace/powdery_mildew_detector/requirements.txt (line 3)) (2.32.3)\n",
            "Requirement already satisfied: rich<14,>=10.14.0 in /home/gitpod/.pyenv/versions/3.12.6/lib/python3.12/site-packages (from streamlit->-r /workspace/powdery_mildew_detector/requirements.txt (line 3)) (13.8.0)\n",
            "Requirement already satisfied: tenacity<9,>=8.1.0 in /home/gitpod/.pyenv/versions/3.12.6/lib/python3.12/site-packages (from streamlit->-r /workspace/powdery_mildew_detector/requirements.txt (line 3)) (8.5.0)\n",
            "Requirement already satisfied: toml<2,>=0.10.1 in /home/gitpod/.pyenv/versions/3.12.6/lib/python3.12/site-packages (from streamlit->-r /workspace/powdery_mildew_detector/requirements.txt (line 3)) (0.10.2)\n",
            "Requirement already satisfied: typing-extensions<5,>=4.3.0 in /home/gitpod/.pyenv/versions/3.12.6/lib/python3.12/site-packages (from streamlit->-r /workspace/powdery_mildew_detector/requirements.txt (line 3)) (4.12.2)\n",
            "Requirement already satisfied: gitpython!=3.1.19,<4,>=3.0.7 in /home/gitpod/.pyenv/versions/3.12.6/lib/python3.12/site-packages (from streamlit->-r /workspace/powdery_mildew_detector/requirements.txt (line 3)) (3.1.43)\n",
            "Requirement already satisfied: pydeck<1,>=0.8.0b4 in /home/gitpod/.pyenv/versions/3.12.6/lib/python3.12/site-packages (from streamlit->-r /workspace/powdery_mildew_detector/requirements.txt (line 3)) (0.9.1)\n",
            "Requirement already satisfied: tornado<7,>=6.0.3 in /home/gitpod/.pyenv/versions/3.12.6/lib/python3.12/site-packages (from streamlit->-r /workspace/powdery_mildew_detector/requirements.txt (line 3)) (6.4.1)\n",
            "Requirement already satisfied: watchdog<5,>=2.1.5 in /home/gitpod/.pyenv/versions/3.12.6/lib/python3.12/site-packages (from streamlit->-r /workspace/powdery_mildew_detector/requirements.txt (line 3)) (4.0.2)\n",
            "Requirement already satisfied: absl-py>=1.0.0 in /home/gitpod/.pyenv/versions/3.12.6/lib/python3.12/site-packages (from tensorflow-cpu->-r /workspace/powdery_mildew_detector/requirements.txt (line 4)) (2.1.0)\n",
            "Requirement already satisfied: astunparse>=1.6.0 in /home/gitpod/.pyenv/versions/3.12.6/lib/python3.12/site-packages (from tensorflow-cpu->-r /workspace/powdery_mildew_detector/requirements.txt (line 4)) (1.6.3)\n",
            "Requirement already satisfied: flatbuffers>=24.3.25 in /home/gitpod/.pyenv/versions/3.12.6/lib/python3.12/site-packages (from tensorflow-cpu->-r /workspace/powdery_mildew_detector/requirements.txt (line 4)) (24.3.25)\n",
            "Requirement already satisfied: gast!=0.5.0,!=0.5.1,!=0.5.2,>=0.2.1 in /home/gitpod/.pyenv/versions/3.12.6/lib/python3.12/site-packages (from tensorflow-cpu->-r /workspace/powdery_mildew_detector/requirements.txt (line 4)) (0.6.0)\n",
            "Requirement already satisfied: google-pasta>=0.1.1 in /home/gitpod/.pyenv/versions/3.12.6/lib/python3.12/site-packages (from tensorflow-cpu->-r /workspace/powdery_mildew_detector/requirements.txt (line 4)) (0.2.0)\n",
            "Requirement already satisfied: h5py>=3.10.0 in /home/gitpod/.pyenv/versions/3.12.6/lib/python3.12/site-packages (from tensorflow-cpu->-r /workspace/powdery_mildew_detector/requirements.txt (line 4)) (3.12.1)\n",
            "Requirement already satisfied: libclang>=13.0.0 in /home/gitpod/.pyenv/versions/3.12.6/lib/python3.12/site-packages (from tensorflow-cpu->-r /workspace/powdery_mildew_detector/requirements.txt (line 4)) (18.1.1)\n",
            "Requirement already satisfied: ml-dtypes<0.5.0,>=0.3.1 in /home/gitpod/.pyenv/versions/3.12.6/lib/python3.12/site-packages (from tensorflow-cpu->-r /workspace/powdery_mildew_detector/requirements.txt (line 4)) (0.4.1)\n",
            "Requirement already satisfied: opt-einsum>=2.3.2 in /home/gitpod/.pyenv/versions/3.12.6/lib/python3.12/site-packages (from tensorflow-cpu->-r /workspace/powdery_mildew_detector/requirements.txt (line 4)) (3.4.0)\n",
            "Requirement already satisfied: setuptools in /home/gitpod/.pyenv/versions/3.12.6/lib/python3.12/site-packages (from tensorflow-cpu->-r /workspace/powdery_mildew_detector/requirements.txt (line 4)) (74.1.2)\n",
            "Requirement already satisfied: six>=1.12.0 in /home/gitpod/.pyenv/versions/3.12.6/lib/python3.12/site-packages (from tensorflow-cpu->-r /workspace/powdery_mildew_detector/requirements.txt (line 4)) (1.16.0)\n",
            "Requirement already satisfied: termcolor>=1.1.0 in /home/gitpod/.pyenv/versions/3.12.6/lib/python3.12/site-packages (from tensorflow-cpu->-r /workspace/powdery_mildew_detector/requirements.txt (line 4)) (2.4.0)\n",
            "Requirement already satisfied: wrapt>=1.11.0 in /home/gitpod/.pyenv/versions/3.12.6/lib/python3.12/site-packages (from tensorflow-cpu->-r /workspace/powdery_mildew_detector/requirements.txt (line 4)) (1.16.0)\n",
            "Requirement already satisfied: grpcio<2.0,>=1.24.3 in /home/gitpod/.pyenv/versions/3.12.6/lib/python3.12/site-packages (from tensorflow-cpu->-r /workspace/powdery_mildew_detector/requirements.txt (line 4)) (1.66.1)\n",
            "Requirement already satisfied: tensorboard<2.18,>=2.17 in /home/gitpod/.pyenv/versions/3.12.6/lib/python3.12/site-packages (from tensorflow-cpu->-r /workspace/powdery_mildew_detector/requirements.txt (line 4)) (2.17.1)\n",
            "Requirement already satisfied: keras>=3.2.0 in /home/gitpod/.pyenv/versions/3.12.6/lib/python3.12/site-packages (from tensorflow-cpu->-r /workspace/powdery_mildew_detector/requirements.txt (line 4)) (3.5.0)\n",
            "Requirement already satisfied: jinja2 in /home/gitpod/.pyenv/versions/3.12.6/lib/python3.12/site-packages (from altair<6,>=4.0->streamlit->-r /workspace/powdery_mildew_detector/requirements.txt (line 3)) (3.1.4)\n",
            "Requirement already satisfied: jsonschema>=3.0 in /home/gitpod/.pyenv/versions/3.12.6/lib/python3.12/site-packages (from altair<6,>=4.0->streamlit->-r /workspace/powdery_mildew_detector/requirements.txt (line 3)) (4.23.0)\n",
            "Requirement already satisfied: narwhals>=1.5.2 in /home/gitpod/.pyenv/versions/3.12.6/lib/python3.12/site-packages (from altair<6,>=4.0->streamlit->-r /workspace/powdery_mildew_detector/requirements.txt (line 3)) (1.8.4)\n",
            "Requirement already satisfied: wheel<1.0,>=0.23.0 in /home/gitpod/.pyenv/versions/3.12.6/lib/python3.12/site-packages (from astunparse>=1.6.0->tensorflow-cpu->-r /workspace/powdery_mildew_detector/requirements.txt (line 4)) (0.44.0)\n",
            "Requirement already satisfied: gitdb<5,>=4.0.1 in /home/gitpod/.pyenv/versions/3.12.6/lib/python3.12/site-packages (from gitpython!=3.1.19,<4,>=3.0.7->streamlit->-r /workspace/powdery_mildew_detector/requirements.txt (line 3)) (4.0.11)\n",
            "Requirement already satisfied: namex in /home/gitpod/.pyenv/versions/3.12.6/lib/python3.12/site-packages (from keras>=3.2.0->tensorflow-cpu->-r /workspace/powdery_mildew_detector/requirements.txt (line 4)) (0.0.8)\n",
            "Requirement already satisfied: optree in /home/gitpod/.pyenv/versions/3.12.6/lib/python3.12/site-packages (from keras>=3.2.0->tensorflow-cpu->-r /workspace/powdery_mildew_detector/requirements.txt (line 4)) (0.12.1)\n",
            "Requirement already satisfied: pytz>=2020.1 in /home/gitpod/.pyenv/versions/3.12.6/lib/python3.12/site-packages (from pandas>=1.2->seaborn->-r /workspace/powdery_mildew_detector/requirements.txt (line 2)) (2024.2)\n",
            "Requirement already satisfied: tzdata>=2022.7 in /home/gitpod/.pyenv/versions/3.12.6/lib/python3.12/site-packages (from pandas>=1.2->seaborn->-r /workspace/powdery_mildew_detector/requirements.txt (line 2)) (2024.2)\n",
            "Requirement already satisfied: charset-normalizer<4,>=2 in /home/gitpod/.pyenv/versions/3.12.6/lib/python3.12/site-packages (from requests<3,>=2.27->streamlit->-r /workspace/powdery_mildew_detector/requirements.txt (line 3)) (3.3.2)\n",
            "Requirement already satisfied: idna<4,>=2.5 in /home/gitpod/.pyenv/versions/3.12.6/lib/python3.12/site-packages (from requests<3,>=2.27->streamlit->-r /workspace/powdery_mildew_detector/requirements.txt (line 3)) (3.8)\n",
            "Requirement already satisfied: urllib3<3,>=1.21.1 in /home/gitpod/.pyenv/versions/3.12.6/lib/python3.12/site-packages (from requests<3,>=2.27->streamlit->-r /workspace/powdery_mildew_detector/requirements.txt (line 3)) (2.2.2)\n",
            "Requirement already satisfied: certifi>=2017.4.17 in /home/gitpod/.pyenv/versions/3.12.6/lib/python3.12/site-packages (from requests<3,>=2.27->streamlit->-r /workspace/powdery_mildew_detector/requirements.txt (line 3)) (2024.8.30)\n",
            "Requirement already satisfied: markdown-it-py>=2.2.0 in /home/gitpod/.pyenv/versions/3.12.6/lib/python3.12/site-packages (from rich<14,>=10.14.0->streamlit->-r /workspace/powdery_mildew_detector/requirements.txt (line 3)) (3.0.0)\n",
            "Requirement already satisfied: pygments<3.0.0,>=2.13.0 in /home/gitpod/.pyenv/versions/3.12.6/lib/python3.12/site-packages (from rich<14,>=10.14.0->streamlit->-r /workspace/powdery_mildew_detector/requirements.txt (line 3)) (2.18.0)\n",
            "Requirement already satisfied: markdown>=2.6.8 in /home/gitpod/.pyenv/versions/3.12.6/lib/python3.12/site-packages (from tensorboard<2.18,>=2.17->tensorflow-cpu->-r /workspace/powdery_mildew_detector/requirements.txt (line 4)) (3.7)\n",
            "Requirement already satisfied: tensorboard-data-server<0.8.0,>=0.7.0 in /home/gitpod/.pyenv/versions/3.12.6/lib/python3.12/site-packages (from tensorboard<2.18,>=2.17->tensorflow-cpu->-r /workspace/powdery_mildew_detector/requirements.txt (line 4)) (0.7.2)\n",
            "Requirement already satisfied: werkzeug>=1.0.1 in /home/gitpod/.pyenv/versions/3.12.6/lib/python3.12/site-packages (from tensorboard<2.18,>=2.17->tensorflow-cpu->-r /workspace/powdery_mildew_detector/requirements.txt (line 4)) (3.0.4)\n",
            "Requirement already satisfied: smmap<6,>=3.0.1 in /home/gitpod/.pyenv/versions/3.12.6/lib/python3.12/site-packages (from gitdb<5,>=4.0.1->gitpython!=3.1.19,<4,>=3.0.7->streamlit->-r /workspace/powdery_mildew_detector/requirements.txt (line 3)) (5.0.1)\n",
            "Requirement already satisfied: MarkupSafe>=2.0 in /home/gitpod/.pyenv/versions/3.12.6/lib/python3.12/site-packages (from jinja2->altair<6,>=4.0->streamlit->-r /workspace/powdery_mildew_detector/requirements.txt (line 3)) (2.1.5)\n",
            "Requirement already satisfied: attrs>=22.2.0 in /home/gitpod/.pyenv/versions/3.12.6/lib/python3.12/site-packages (from jsonschema>=3.0->altair<6,>=4.0->streamlit->-r /workspace/powdery_mildew_detector/requirements.txt (line 3)) (24.2.0)\n",
            "Requirement already satisfied: jsonschema-specifications>=2023.03.6 in /home/gitpod/.pyenv/versions/3.12.6/lib/python3.12/site-packages (from jsonschema>=3.0->altair<6,>=4.0->streamlit->-r /workspace/powdery_mildew_detector/requirements.txt (line 3)) (2023.12.1)\n",
            "Requirement already satisfied: referencing>=0.28.4 in /home/gitpod/.pyenv/versions/3.12.6/lib/python3.12/site-packages (from jsonschema>=3.0->altair<6,>=4.0->streamlit->-r /workspace/powdery_mildew_detector/requirements.txt (line 3)) (0.35.1)\n",
            "Requirement already satisfied: rpds-py>=0.7.1 in /home/gitpod/.pyenv/versions/3.12.6/lib/python3.12/site-packages (from jsonschema>=3.0->altair<6,>=4.0->streamlit->-r /workspace/powdery_mildew_detector/requirements.txt (line 3)) (0.20.0)\n",
            "Requirement already satisfied: mdurl~=0.1 in /home/gitpod/.pyenv/versions/3.12.6/lib/python3.12/site-packages (from markdown-it-py>=2.2.0->rich<14,>=10.14.0->streamlit->-r /workspace/powdery_mildew_detector/requirements.txt (line 3)) (0.1.2)\n",
            "Note: you may need to restart the kernel to use updated packages.\n"
          ]
        }
      ],
      "source": [
        "%pip install -r /workspace/powdery_mildew_detector/requirements.txt\n",
        "\n"
      ]
    },
    {
      "cell_type": "code",
      "execution_count": 3,
      "metadata": {
        "id": "7AR_SEgkmYDC"
      },
      "outputs": [],
      "source": [
        "import numpy\n",
        "import os"
      ]
    },
    {
      "cell_type": "markdown",
      "metadata": {
        "id": "XMkFbSwxmYDC"
      },
      "source": [
        "## Change the working directory"
      ]
    },
    {
      "cell_type": "code",
      "execution_count": 4,
      "metadata": {
        "id": "8SooBUDWVIQK"
      },
      "outputs": [
        {
          "data": {
            "text/plain": [
              "'/workspace/powdery_mildew_detector/jupyter_notebooks'"
            ]
          },
          "execution_count": 4,
          "metadata": {},
          "output_type": "execute_result"
        }
      ],
      "source": [
        "current_dir = os.getcwd()\n",
        "current_dir"
      ]
    },
    {
      "cell_type": "code",
      "execution_count": 5,
      "metadata": {
        "id": "EQ7j8jHhmYDD"
      },
      "outputs": [
        {
          "name": "stdout",
          "output_type": "stream",
          "text": [
            "You set a new current directory\n"
          ]
        }
      ],
      "source": [
        "os.chdir('/workspace/powdery_mildew_detector')\n",
        "print(\"You set a new current directory\")"
      ]
    },
    {
      "cell_type": "code",
      "execution_count": 6,
      "metadata": {
        "id": "b107Zs3TmYDD"
      },
      "outputs": [
        {
          "data": {
            "text/plain": [
              "'/workspace/powdery_mildew_detector'"
            ]
          },
          "execution_count": 6,
          "metadata": {},
          "output_type": "execute_result"
        }
      ],
      "source": [
        "\n",
        "current_dir = os.getcwd()\n",
        "current_dir"
      ]
    },
    {
      "cell_type": "markdown",
      "metadata": {
        "id": "CoVu2lp8vZi1"
      },
      "source": [
        "# Install Kaggle"
      ]
    },
    {
      "cell_type": "code",
      "execution_count": 7,
      "metadata": {
        "id": "zhrMBzbVvZi2"
      },
      "outputs": [
        {
          "name": "stdout",
          "output_type": "stream",
          "text": [
            "Collecting kaggle\n",
            "  Using cached kaggle-1.6.17-py3-none-any.whl\n",
            "Requirement already satisfied: six>=1.10 in /home/gitpod/.pyenv/versions/3.12.6/lib/python3.12/site-packages (from kaggle) (1.16.0)\n",
            "Requirement already satisfied: certifi>=2023.7.22 in /home/gitpod/.pyenv/versions/3.12.6/lib/python3.12/site-packages (from kaggle) (2024.8.30)\n",
            "Requirement already satisfied: python-dateutil in /home/gitpod/.pyenv/versions/3.12.6/lib/python3.12/site-packages (from kaggle) (2.9.0.post0)\n",
            "Requirement already satisfied: requests in /home/gitpod/.pyenv/versions/3.12.6/lib/python3.12/site-packages (from kaggle) (2.32.3)\n",
            "Requirement already satisfied: tqdm in /home/gitpod/.pyenv/versions/3.12.6/lib/python3.12/site-packages (from kaggle) (4.66.5)\n",
            "Collecting python-slugify (from kaggle)\n",
            "  Using cached python_slugify-8.0.4-py2.py3-none-any.whl.metadata (8.5 kB)\n",
            "Requirement already satisfied: urllib3 in /home/gitpod/.pyenv/versions/3.12.6/lib/python3.12/site-packages (from kaggle) (2.2.2)\n",
            "Requirement already satisfied: bleach in /home/gitpod/.pyenv/versions/3.12.6/lib/python3.12/site-packages (from kaggle) (6.1.0)\n",
            "Requirement already satisfied: webencodings in /home/gitpod/.pyenv/versions/3.12.6/lib/python3.12/site-packages (from bleach->kaggle) (0.5.1)\n",
            "Collecting text-unidecode>=1.3 (from python-slugify->kaggle)\n",
            "  Using cached text_unidecode-1.3-py2.py3-none-any.whl.metadata (2.4 kB)\n",
            "Requirement already satisfied: charset-normalizer<4,>=2 in /home/gitpod/.pyenv/versions/3.12.6/lib/python3.12/site-packages (from requests->kaggle) (3.3.2)\n",
            "Requirement already satisfied: idna<4,>=2.5 in /home/gitpod/.pyenv/versions/3.12.6/lib/python3.12/site-packages (from requests->kaggle) (3.8)\n",
            "Using cached python_slugify-8.0.4-py2.py3-none-any.whl (10 kB)\n",
            "Using cached text_unidecode-1.3-py2.py3-none-any.whl (78 kB)\n",
            "Installing collected packages: text-unidecode, python-slugify, kaggle\n",
            "Successfully installed kaggle-1.6.17 python-slugify-8.0.4 text-unidecode-1.3\n",
            "Note: you may need to restart the kernel to use updated packages.\n"
          ]
        }
      ],
      "source": [
        "# install kaggle package\n",
        "%pip install kaggle"
      ]
    },
    {
      "cell_type": "markdown",
      "metadata": {
        "id": "qRwFQLlmwrl9"
      },
      "source": [
        "---"
      ]
    },
    {
      "cell_type": "markdown",
      "metadata": {
        "id": "x9BaDpLjM-rP"
      },
      "source": [
        "Run the cell below **to change the Kaggle configuration directory to the current working directory and set permissions for the Kaggle authentication JSON**."
      ]
    },
    {
      "cell_type": "code",
      "execution_count": 8,
      "metadata": {},
      "outputs": [
        {
          "name": "stdout",
          "output_type": "stream",
          "text": [
            "\u001b[0m\u001b[01;34mapp_pages\u001b[0m/  \u001b[01;34mjupyter_notebooks\u001b[0m/  Procfile          runtime.txt\n",
            "app.py      kaggle.json         README.md         setup.sh\n",
            "\u001b[01;34minputs\u001b[0m/     \u001b[01;34moutputs\u001b[0m/            requirements.txt  \u001b[01;34msrc\u001b[0m/\n"
          ]
        }
      ],
      "source": [
        "ls"
      ]
    },
    {
      "cell_type": "code",
      "execution_count": 9,
      "metadata": {
        "id": "LVlh18YgbyEg"
      },
      "outputs": [],
      "source": [
        "os.environ['KAGGLE_CONFIG_DIR'] = os.getcwd()\n",
        "! chmod 600 kaggle.json"
      ]
    },
    {
      "cell_type": "markdown",
      "metadata": {
        "id": "ySAC0yIkNJm4"
      },
      "source": [
        "* Get the dataset path from the [Kaggle URL](https://www.kaggle.com/codeinstitute/malaria-cell-classification). When you are viewing the dataset at Kaggle, check what is after https://www.kaggle.com/ (in some cases kaggle.com/datasets). You should copy that at KaggleDatasetPath.\n",
        "* Set your destination folder."
      ]
    },
    {
      "cell_type": "markdown",
      "metadata": {
        "id": "-jg2mrz4aRQf"
      },
      "source": [
        "Set the Kaggle Dataset and Download it."
      ]
    },
    {
      "cell_type": "code",
      "execution_count": 10,
      "metadata": {
        "id": "n3u49Wn7byHA"
      },
      "outputs": [
        {
          "name": "stdout",
          "output_type": "stream",
          "text": [
            "Dataset URL: https://www.kaggle.com/datasets/codeinstitute/cherry-leaves\n",
            "License(s): unknown\n",
            "Downloading cherry-leaves.zip to inputs/cherry-leaves\n",
            " 96%|████████████████████████████████████▌ | 53.0M/55.0M [00:05<00:00, 6.44MB/s]\n",
            "100%|██████████████████████████████████████| 55.0M/55.0M [00:05<00:00, 9.99MB/s]\n"
          ]
        }
      ],
      "source": [
        "KaggleDatasetPath = \"codeinstitute/cherry-leaves\"\n",
        "DestinationFolder = \"inputs/cherry-leaves\"   \n",
        "! kaggle datasets download -d {KaggleDatasetPath} -p {DestinationFolder}"
      ]
    },
    {
      "cell_type": "markdown",
      "metadata": {
        "id": "onuX0tVRNkB8"
      },
      "source": [
        "Unzip the downloaded file, and delete the zip file."
      ]
    },
    {
      "cell_type": "code",
      "execution_count": 11,
      "metadata": {
        "id": "4sJ4a1-RvZi9"
      },
      "outputs": [],
      "source": [
        "import zipfile\n",
        "with zipfile.ZipFile(DestinationFolder + '/cherry-leaves.zip', 'r') as zip_ref:\n",
        "    zip_ref.extractall(DestinationFolder)\n",
        "\n",
        "os.remove(DestinationFolder + '/cherry-leaves.zip')"
      ]
    },
    {
      "cell_type": "markdown",
      "metadata": {
        "id": "b5FvU5UvvZi9"
      },
      "source": [
        "---"
      ]
    },
    {
      "cell_type": "markdown",
      "metadata": {
        "id": "xKUJfg59l1TY"
      },
      "source": [
        "# Data Preparation"
      ]
    },
    {
      "cell_type": "markdown",
      "metadata": {
        "id": "wh5i_Q78vZi-"
      },
      "source": [
        "---"
      ]
    },
    {
      "cell_type": "markdown",
      "metadata": {
        "id": "plF6DoUSvZi-"
      },
      "source": [
        "## Data cleaning"
      ]
    },
    {
      "cell_type": "markdown",
      "metadata": {
        "id": "jWTIucPTvZi-"
      },
      "source": [
        "### Check and remove non-image files"
      ]
    },
    {
      "cell_type": "code",
      "execution_count": 12,
      "metadata": {
        "id": "tyxIhl1PvZi-"
      },
      "outputs": [],
      "source": [
        "def remove_non_image_file(my_data_dir):\n",
        "    image_extension = ('.png', '.jpg', '.jpeg')\n",
        "    folders = os.listdir(my_data_dir)\n",
        "    for folder in folders:\n",
        "        files = os.listdir(my_data_dir + '/' + folder)\n",
        "        # print(files)\n",
        "        i = []\n",
        "        j = []\n",
        "        for given_file in files:\n",
        "            if not given_file.lower().endswith(image_extension):\n",
        "                file_location = my_data_dir + '/' + folder + '/' + given_file\n",
        "                os.remove(file_location)  # remove non image file\n",
        "                i.append(1)\n",
        "            else:\n",
        "                j.append(1)\n",
        "                pass\n",
        "        print(f\"Folder: {folder} - has image file\", len(j))\n",
        "        print(f\"Folder: {folder} - has non-image file\", len(i))\n"
      ]
    },
    {
      "cell_type": "code",
      "execution_count": 13,
      "metadata": {
        "id": "r7GhG4y2vZi_"
      },
      "outputs": [
        {
          "name": "stdout",
          "output_type": "stream",
          "text": [
            "Folder: healthy - has image file 2104\n",
            "Folder: healthy - has non-image file 0\n",
            "Folder: powdery_mildew - has image file 2104\n",
            "Folder: powdery_mildew - has non-image file 0\n"
          ]
        }
      ],
      "source": [
        "remove_non_image_file(my_data_dir='inputs/cherry-leaves/cherry-leaves')"
      ]
    },
    {
      "cell_type": "markdown",
      "metadata": {
        "id": "Zo5HyvEZgUZC"
      },
      "source": [
        "## Split train validation test set"
      ]
    },
    {
      "cell_type": "code",
      "execution_count": 14,
      "metadata": {
        "id": "Qoz1ZU_EgKDu"
      },
      "outputs": [],
      "source": [
        "import os\n",
        "import shutil\n",
        "import random\n",
        "import joblib\n",
        "\n",
        "\n",
        "def split_train_validation_test_images(my_data_dir, train_set_ratio, validation_set_ratio, test_set_ratio):\n",
        "\n",
        "    if train_set_ratio + validation_set_ratio + test_set_ratio != 1.0:\n",
        "        print(\"train_set_ratio + validation_set_ratio + test_set_ratio should sum to 1.0\")\n",
        "        return\n",
        "\n",
        "    # gets classes labels\n",
        "    labels = os.listdir(my_data_dir)  # it should get only the folder name\n",
        "    if 'test' in labels:\n",
        "        pass\n",
        "    else:\n",
        "        # create train, test folders with classes labels sub-folder\n",
        "        for folder in ['train', 'validation', 'test']:\n",
        "            for label in labels:\n",
        "                os.makedirs(name=my_data_dir + '/' + folder + '/' + label)\n",
        "\n",
        "        for label in labels:\n",
        "\n",
        "            files = os.listdir(my_data_dir + '/' + label)\n",
        "            random.shuffle(files)\n",
        "\n",
        "            train_set_files_qty = int(len(files) * train_set_ratio)\n",
        "            validation_set_files_qty = int(len(files) * validation_set_ratio)\n",
        "\n",
        "            count = 1\n",
        "            for file_name in files:\n",
        "                if count <= train_set_files_qty:\n",
        "                    # move a given file to the train set\n",
        "                    shutil.move(my_data_dir + '/' + label + '/' + file_name,\n",
        "                                my_data_dir + '/train/' + label + '/' + file_name)\n",
        "\n",
        "                elif count <= (train_set_files_qty + validation_set_files_qty):\n",
        "                    # move a given file to the validation set\n",
        "                    shutil.move(my_data_dir + '/' + label + '/' + file_name,\n",
        "                                my_data_dir + '/validation/' + label + '/' + file_name)\n",
        "\n",
        "                else:\n",
        "                    # move given file to test set\n",
        "                    shutil.move(my_data_dir + '/' + label + '/' + file_name,\n",
        "                                my_data_dir + '/test/' + label + '/' + file_name)\n",
        "\n",
        "                count += 1\n",
        "\n",
        "            os.rmdir(my_data_dir + '/' + label)\n"
      ]
    },
    {
      "cell_type": "markdown",
      "metadata": {
        "id": "74_6OZMWgYIP"
      },
      "source": [
        "Conventionally,\n",
        "* The training set is divided into a 0.70 ratio of data.\n",
        "* The validation set is divided into a 0.10 ratio of data.\n",
        "* The test set is divided into a 0.20 ratio of data."
      ]
    },
    {
      "cell_type": "code",
      "execution_count": 15,
      "metadata": {
        "id": "24e-HbOdgYO1"
      },
      "outputs": [],
      "source": [
        "split_train_validation_test_images(my_data_dir=f\"inputs/cherry-leaves/cherry-leaves\",\n",
        "                                   train_set_ratio=0.7,\n",
        "                                   validation_set_ratio=0.1,\n",
        "                                   test_set_ratio=0.2\n",
        "                                   )\n"
      ]
    },
    {
      "cell_type": "markdown",
      "metadata": {
        "id": "ctcuyZrmhKYo"
      },
      "source": [
        "---"
      ]
    },
    {
      "cell_type": "markdown",
      "metadata": {
        "id": "3v3qKCNDvZjB"
      },
      "source": [
        "# Congratulations"
      ]
    },
    {
      "cell_type": "markdown",
      "metadata": {
        "id": "_tdAGw4Zwssu"
      },
      "source": [
        "---"
      ]
    }
  ],
  "metadata": {
    "accelerator": "GPU",
    "colab": {
      "name": "01 - DataCollection.ipynb",
      "provenance": []
    },
    "kernelspec": {
      "display_name": "Python 3.8.13 64-bit ('3.8.13')",
      "language": "python",
      "name": "python3"
    },
    "language_info": {
      "codemirror_mode": {
        "name": "ipython",
        "version": 3
      },
      "file_extension": ".py",
      "mimetype": "text/x-python",
      "name": "python",
      "nbconvert_exporter": "python",
      "pygments_lexer": "ipython3",
      "version": "3.12.6"
    },
    "vscode": {
      "interpreter": {
        "hash": "110cc1dee26208153f2972f08a2ad52b6a56238dc66d48e87fb757ef2996db56"
      }
    }
  },
  "nbformat": 4,
  "nbformat_minor": 0
}
